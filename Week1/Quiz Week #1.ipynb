{
 "cells": [
  {
   "cell_type": "markdown",
   "metadata": {},
   "source": [
    "Suppose you are told that the one time pad encryption of the message \"attack at dawn\" is 6c73d5240a948c86981bc294814d\n",
    "\n",
    "(the plaintext letters are encoded as 8-bit ASCII and the given ciphertext is written in hex). What would be the one time pad encryption of the message \"attack at dusk\" under the same OTP key?"
   ]
  },
  {
   "cell_type": "code",
   "execution_count": null,
   "metadata": {},
   "outputs": [],
   "source": [
    "6c73d5240a948c86981bc294814d\n",
    "attack at dawn\n"
   ]
  },
  {
   "cell_type": "code",
   "execution_count": 28,
   "metadata": {},
   "outputs": [
    {
     "name": "stdout",
     "output_type": "stream",
     "text": [
      "[0x68 0x95 0xb1 0x96 0x69 0xe 0x8c 0x30 0xe0 0x78 0x83 0x84 0x48 0x58]\n",
      "[0x61 0x74 0x74 0x61 0x63 0x6b 0x20 0x61 0x74 0x20 0x64 0x61 0x77 0x6e]\n",
      "[0x61 0x74 0x74 0x61 0x63 0x6b 0x20 0x61 0x74 0x20 0x64 0x75 0x73 0x6b]\n"
     ]
    }
   ],
   "source": [
    "import numpy as np\n",
    "\n",
    "\n",
    "# since it's much easier to understand logical functions in hex setting print options \n",
    "np.set_printoptions(formatter={'int':hex})\n",
    "\n",
    "m = \"09e1c5f70a65ac519458e7e53f36\"\n",
    "s1 = \"attack at dawn\"\n",
    "s2 = \"attack at dusk\"\n",
    "\n",
    "m_np = np.array(bytearray.fromhex(m), dtype=np.uint8)\n",
    "\n",
    "s1_np = np.zeros(len(m_np), dtype=np.uint8)\n",
    "s2_np = np.zeros(len(m_np), dtype=np.uint8)\n",
    "key = np.zeros(len(m_np), dtype=np.uint8)\n",
    "\n",
    "for i in range(0,len(s1)):\n",
    "    s1_np[i] = ord(s1[i])\n",
    "    \n",
    "for i in range(0,len(s2)):\n",
    "    s2_np[i] = ord(s2[i])\n",
    "\n",
    "for i in range(0,len(s1)):\n",
    "    key[i] = ord(s1[i]) ^ m_np[i]\n",
    "\n",
    "print(key)\n",
    "print(s1_np)\n",
    "print(s2_np)\n",
    "\n"
   ]
  },
  {
   "cell_type": "code",
   "execution_count": 14,
   "metadata": {},
   "outputs": [],
   "source": [
    "def xorarray (arr1, arr2):\n",
    "    \"\"\"Helper function that xors two numpy arrays together\n",
    "    \"\"\"\n",
    "    len1 = len(arr1)\n",
    "    len2 = len(arr2)\n",
    "    minlen = min(len1,len2)\n",
    "    return arr1[:minlen].__xor__(arr2[:minlen])"
   ]
  },
  {
   "cell_type": "code",
   "execution_count": 29,
   "metadata": {},
   "outputs": [
    {
     "name": "stdout",
     "output_type": "stream",
     "text": [
      "[0x9 0xe1 0xc5 0xf7 0xa 0x65 0xac 0x51 0x94 0x58 0xe7 0xe5 0x3f 0x36]\n",
      "[0x9 0xe1 0xc5 0xf7 0xa 0x65 0xac 0x51 0x94 0x58 0xe7 0xf1 0x3b 0x33]\n"
     ]
    }
   ],
   "source": [
    "print(xorarray(s1_np, key))\n",
    "print(xorarray(s2_np, key))\n"
   ]
  },
  {
   "cell_type": "code",
   "execution_count": null,
   "metadata": {},
   "outputs": [],
   "source": [
    "6c73d5240a948c86981bc2808548\n",
    "09e1c5f70a65ac519458e7f13b33"
   ]
  }
 ],
 "metadata": {
  "kernelspec": {
   "display_name": "Python 3",
   "language": "python",
   "name": "python3"
  },
  "language_info": {
   "codemirror_mode": {
    "name": "ipython",
    "version": 3
   },
   "file_extension": ".py",
   "mimetype": "text/x-python",
   "name": "python",
   "nbconvert_exporter": "python",
   "pygments_lexer": "ipython3",
   "version": "3.6.5"
  }
 },
 "nbformat": 4,
 "nbformat_minor": 2
}
